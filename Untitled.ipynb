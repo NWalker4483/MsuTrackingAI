{
 "cells": [
  {
   "cell_type": "code",
   "execution_count": 2,
   "metadata": {},
   "outputs": [],
   "source": [
    "%matplotlib inline\n",
    "import cv2\n",
    "import numpy as np \n",
    "import matplotlib.pyplot as plt"
   ]
  },
  {
   "cell_type": "code",
   "execution_count": 92,
   "metadata": {},
   "outputs": [
    {
     "name": "stdout",
     "output_type": "stream",
     "text": [
      "32.702477833 32.7041025 -117.234481833 -117.231845\n"
     ]
    }
   ],
   "source": [
    "pts = []\n",
    "plot = [7,10,13,14,16,22,12]\n",
    "for i in plot:\n",
    "    gps_points  = []\n",
    "    with open(f\"generated_data/frame2gps/frame2gps.{i}.csv\",\"r\") as f:\n",
    "       content = f.readlines()\n",
    "       content = content[1:] # Skip Header\n",
    "    for entry in content:  \n",
    "        frame_id, f_time, g_time, lat, lon = entry.split(\",\")\n",
    "        gps_points.append([float(lat),float(lon)])\n",
    "    if len(gps_points) > 0:\n",
    "        pts.append(gps_points)\n",
    "plot_gps(pts.copy())"
   ]
  },
  {
   "cell_type": "code",
   "execution_count": 75,
   "metadata": {},
   "outputs": [],
   "source": [
    "def plot_gps(data, height = 7000, buffer = 1000, base_img=None): # [[Lat, Long],[Lat, Long], ...]\n",
    "    # Normalize\n",
    "    min_lat = np.inf\n",
    "    max_lat = -np.inf\n",
    "    min_lon = np.inf\n",
    "    max_lon = -np.inf\n",
    "    for path in data: \n",
    "        for lat, lon in path:\n",
    "            min_lat = lat if lat < min_lat else min_lat\n",
    "            max_lat = lat if lat > max_lat else max_lat\n",
    "            min_lon = lon if lon < min_lon else min_lon\n",
    "            max_lon = lon if lon > max_lon else max_lon\n",
    "    print(min_lat,max_lat,min_lon,max_lon)\n",
    "    \n",
    "    change_per_px = height / (max_lat - min_lat) # Find the largest change in gps \n",
    "    if base_img == None:\n",
    "        base_img = np.ones((buffer + int(change_per_px * (max_lon - min_lon)),buffer + height ,3))\n",
    "    legend_y = int(50 * (height/1000))\n",
    "    i = 1\n",
    "    for path in data:\n",
    "        path = np.array(path)\n",
    "        color = tuple([np.random.randint(0,255) for _ in range(3)])\n",
    "        \n",
    "        base_img = cv2.putText(base_img, f'Path {plot[i-1]}', (50, legend_y*i), cv2.FONT_HERSHEY_SIMPLEX ,  \n",
    "                           height/1000, color, 7, cv2.LINE_AA) \n",
    "        i+=1\n",
    "        #color = (255,23,0)\n",
    "        path[:,0] -= min_lat\n",
    "        path[:,1] -= min_lon\n",
    "        last_point = ((buffer//4) + int(path[0][0] * change_per_px), (buffer//4) + int(path[0][1] * change_per_px))\n",
    "        for d_lat, d_lon in path[1:]:\n",
    "            point = ((buffer//4) + int(d_lat * change_per_px), (buffer//4) + int(d_lon * change_per_px))\n",
    "            base_img = cv2.circle(base_img, point,10, color, -1) \n",
    "            base_img = cv2.line(base_img, last_point, point, color, 4) \n",
    "            last_point = point\n",
    "    cv2.imwrite(\"gps.png\",base_img)\n"
   ]
  },
  {
   "cell_type": "code",
   "execution_count": 76,
   "metadata": {},
   "outputs": [
    {
     "name": "stdout",
     "output_type": "stream",
     "text": [
      "32.702527333 32.7041025 -117.234505167 -117.231845\n"
     ]
    }
   ],
   "source": []
  }
 ],
 "metadata": {
  "kernelspec": {
   "display_name": "Python 3",
   "language": "python",
   "name": "python3"
  },
  "language_info": {
   "codemirror_mode": {
    "name": "ipython",
    "version": 3
   },
   "file_extension": ".py",
   "mimetype": "text/x-python",
   "name": "python",
   "nbconvert_exporter": "python",
   "pygments_lexer": "ipython3",
   "version": "3.8.3"
  }
 },
 "nbformat": 4,
 "nbformat_minor": 4
}
