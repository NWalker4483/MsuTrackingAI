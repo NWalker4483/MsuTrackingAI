{
 "cells": [
  {
   "cell_type": "code",
   "execution_count": 1,
   "metadata": {},
   "outputs": [],
   "source": [
    "import cv2\n",
    "import numpy as np"
   ]
  },
  {
   "cell_type": "code",
   "execution_count": 41,
   "metadata": {},
   "outputs": [
    {
     "data": {
      "text/plain": [
       "(33.637708937824975,\n",
       " array([[ 1.42182481,  0.        , 29.47105411],\n",
       "        [ 0.        , 24.80321023, 40.02617405],\n",
       "        [ 0.        ,  0.        ,  1.        ]]),\n",
       " array([[-4.05247055e-01, -4.69181813e-03, -2.93364572e-01,\n",
       "          1.68493095e+00, -1.43072753e-03]]),\n",
       " [array([[ 0.53065355],\n",
       "         [-1.84827734],\n",
       "         [ 2.28690346]])],\n",
       " [array([[66.16157111],\n",
       "         [16.38767407],\n",
       "         [21.62322144]])])"
      ]
     },
     "execution_count": 41,
     "metadata": {},
     "output_type": "execute_result"
    }
   ],
   "source": [
    "obj = np.float32([[[np.random.randint(99),np.random.randint(99),0] for _ in range(20)]])\n",
    "cv2.calibrateCamera(obj,np.float32([[[np.random.randint(99),np.random.randint(99)] for _ in range(20)]]), \\\n",
    "                    (100,100),None,None)"
   ]
  },
  {
   "cell_type": "code",
   "execution_count": 37,
   "metadata": {},
   "outputs": [
    {
     "data": {
      "text/plain": [
       "29"
      ]
     },
     "execution_count": 37,
     "metadata": {},
     "output_type": "execute_result"
    }
   ],
   "source": [
    "np.random.randint(99)\n"
   ]
  },
  {
   "cell_type": "code",
   "execution_count": 30,
   "metadata": {},
   "outputs": [
    {
     "data": {
      "text/plain": [
       "[[10, 10, 0],\n",
       " [10, 10, 0],\n",
       " [10, 10, 0],\n",
       " [10, 10, 0],\n",
       " [10, 10, 0],\n",
       " [10, 10, 0],\n",
       " [10, 10, 0],\n",
       " [10, 10, 0]]"
      ]
     },
     "execution_count": 30,
     "metadata": {},
     "output_type": "execute_result"
    }
   ],
   "source": [
    "[[10,10,0]]*8\n"
   ]
  }
 ],
 "metadata": {
  "kernelspec": {
   "display_name": "Python 3",
   "language": "python",
   "name": "python3"
  },
  "language_info": {
   "codemirror_mode": {
    "name": "ipython",
    "version": 3
   },
   "file_extension": ".py",
   "mimetype": "text/x-python",
   "name": "python",
   "nbconvert_exporter": "python",
   "pygments_lexer": "ipython3",
   "version": "3.8.3"
  }
 },
 "nbformat": 4,
 "nbformat_minor": 4
}
