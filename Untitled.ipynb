{
 "cells": [
  {
   "cell_type": "code",
   "execution_count": 2,
   "metadata": {},
   "outputs": [],
   "source": [
    "%matplotlib inline\n",
    "import cv2\n",
    "import numpy as np \n",
    "import matplotlib.pyplot as plt"
   ]
  },
  {
   "cell_type": "code",
   "execution_count": 56,
   "metadata": {},
   "outputs": [
    {
     "data": {
      "text/plain": [
       "223"
      ]
     },
     "execution_count": 56,
     "metadata": {},
     "output_type": "execute_result"
    }
   ],
   "source": []
  },
  {
   "cell_type": "code",
   "execution_count": 92,
   "metadata": {},
   "outputs": [
    {
     "name": "stdout",
     "output_type": "stream",
     "text": [
      "32.701475333 32.7041025 -117.234500667 -117.231845\n"
     ]
    },
    {
     "name": "stderr",
     "output_type": "stream",
     "text": [
      "Clipping input data to the valid range for imshow with RGB data ([0..1] for floats or [0..255] for integers).\n"
     ]
    },
    {
     "data": {
      "image/png": "[encoded data removed]",
      "text/plain": [
       "<Figure size 432x288 with 1 Axes>"
      ]
     },
     "metadata": {
      "needs_background": "light"
     },
     "output_type": "display_data"
    }
   ],
   "source": [
    "def plot_gps(data, height = 5000, base_img=None): # [[Lat, Long],[Lat, Long], ...]\n",
    "    data = np.array(data)\n",
    "    # Normalize\n",
    "    min_lat = np.inf\n",
    "    max_lat = -np.inf\n",
    "    min_lon = np.inf\n",
    "    max_lon = -np.inf\n",
    "    for path in data: \n",
    "        for lat, lon in path:\n",
    "            min_lat = lat if lat < min_lat else min_lat\n",
    "            max_lat = lat if lat > max_lat else max_lat\n",
    "            min_lon = lon if lon < min_lon else min_lon\n",
    "            max_lon = lon if lon > max_lon else max_lon\n",
    "    print(min_lat,max_lat,min_lon,max_lon)\n",
    "            \n",
    "    change_per_px = height / (max_lat - min_lat) # Find the largest change in gps \n",
    "    if base_img == None:\n",
    "        base_img = np.ones((height,int(change_per_px * (max_lon - min_lon)),3))\n",
    "    for path in data:\n",
    "        color = tuple([np.random.randint(0,255) for _ in range(3)])\n",
    "        #color = (255,23,0)\n",
    "        path[:,0] -= min_lat\n",
    "        path[:,1] -= min_lon\n",
    "        last_point = (int(path[0][0] * change_per_px), int(path[0][1] * change_per_px))\n",
    "        for d_lat, d_lon in path[1:]:\n",
    "            point = (int(d_lat * change_per_px), int(d_lon * change_per_px))\n",
    "            base_img = cv2.circle(base_img, point,5, color, -1) \n",
    "            base_img = cv2.line(base_img, last_point, point, color, 2) \n",
    "            last_point = point\n",
    "            #print(type((255,0,0)),type(color))\\\n",
    "    plt.imshow(base_img)\n",
    "    cv2.imwrite(\"test.png\",base_img)\n",
    "pts = []\n",
    "for i in [7,14,16,13,10,22]:\n",
    "    gps_points  = []\n",
    "    with open(f\"generated_data/frame2gps/frame2gps.{i}.csv\",\"r\") as f:\n",
    "       content = f.readlines()\n",
    "       content = content[1:] # Skip Header\n",
    "    for entry in content:  \n",
    "        frame_id, f_time, g_time, lat, lon = entry.split(\",\")\n",
    "        gps_points.append([float(lat),float(lon)])\n",
    "    pts.append(np.array(gps_points))\n",
    "plot_gps(pts)"
   ]
  },
  {
   "cell_type": "code",
   "execution_count": null,
   "metadata": {},
   "outputs": [],
   "source": []
  },
  {
   "cell_type": "code",
   "execution_count": 78,
   "metadata": {},
   "outputs": [
    {
     "data": {
      "text/plain": [
       "int"
      ]
     },
     "execution_count": 78,
     "metadata": {},
     "output_type": "execute_result"
    }
   ],
   "source": [
    "type(np.random.randint(0,255))\n",
    "type(23)"
   ]
  },
  {
   "cell_type": "code",
   "execution_count": 45,
   "metadata": {},
   "outputs": [
    {
     "ename": "IndexError",
     "evalue": "too many indices for array",
     "output_type": "error",
     "traceback": [
      "\u001b[0;31m---------------------------------------------------------------------------\u001b[0m",
      "\u001b[0;31mIndexError\u001b[0m                                Traceback (most recent call last)",
      "\u001b[0;32m<ipython-input-45-a3086d85d421>\u001b[0m in \u001b[0;36m<module>\u001b[0;34m\u001b[0m\n\u001b[0;32m----> 1\u001b[0;31m \u001b[0mnp\u001b[0m\u001b[0;34m.\u001b[0m\u001b[0mmin\u001b[0m\u001b[0;34m(\u001b[0m\u001b[0ma\u001b[0m\u001b[0;34m[\u001b[0m\u001b[0;34m:\u001b[0m\u001b[0;34m,\u001b[0m\u001b[0;34m:\u001b[0m\u001b[0;34m,\u001b[0m\u001b[0;36m1\u001b[0m\u001b[0;34m]\u001b[0m\u001b[0;34m)\u001b[0m\u001b[0;34m\u001b[0m\u001b[0;34m\u001b[0m\u001b[0m\n\u001b[0m",
      "\u001b[0;31mIndexError\u001b[0m: too many indices for array"
     ]
    }
   ],
   "source": [
    "np.min(a[:,:,1])"
   ]
  }
 ],
 "metadata": {
  "kernelspec": {
   "display_name": "Python 3",
   "language": "python",
   "name": "python3"
  }
 },
 "nbformat": 4,
 "nbformat_minor": 4
}
